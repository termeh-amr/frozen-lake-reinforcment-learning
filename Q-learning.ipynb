{
  "cells": [
    {
      "cell_type": "code",
      "execution_count": 1,
      "metadata": {
        "id": "RIXS-KW87TH6"
      },
      "outputs": [],
      "source": [
        "import gym\n",
        "from tqdm import tqdm\n",
        "import random\n",
        "import numpy as np\n",
        "import matplotlib.pyplot as plt"
      ]
    },
    {
      "cell_type": "code",
      "execution_count": 2,
      "metadata": {
        "id": "aeC2eq1-AGul"
      },
      "outputs": [],
      "source": [
        "env = gym.make(\"FrozenLake-v0\", is_slippery = True)\n",
        "q_value = [[0]* env.action_space.n for i in range(env.observation_space.n)]\n",
        "gamma = 0.9\n",
        "epsilon = 0.3\n",
        "alpha = 0.1"
      ]
    },
    {
      "cell_type": "code",
      "execution_count": 4,
      "metadata": {
        "colab": {
          "base_uri": "https://localhost:8080/"
        },
        "id": "oUrTHzuBAdvT",
        "outputId": "5288bf7a-b1f9-487f-ced9-00688e836973"
      },
      "outputs": [
        {
          "output_type": "stream",
          "name": "stderr",
          "text": [
            "100%|██████████| 1/1 [00:12<00:00, 12.70s/it]\n"
          ]
        }
      ],
      "source": [
        "w_r = []\n",
        "EPISODE_NUM = 5000\n",
        "TEST_NUM = 50\n",
        "for k in tqdm(range(100)):\n",
        "  q_value = [[0]* env.action_space.n for i in range(env.observation_space.n)]\n",
        "  win_rates = []\n",
        "  for j in range(EPISODE_NUM):\n",
        "    state= env.reset()\n",
        "    done = False\n",
        "    while not done:\n",
        "      if np.random.rand() < epsilon:\n",
        "            action = env.action_space.sample()\n",
        "      else:\n",
        "            action = np.argmax(q_value[state][:])\n",
        "\n",
        "      next_state, reward, done, _ = env.step(action)\n",
        "      q_value[state][action] = q_value[state][action] + alpha * (reward + gamma * max(q_value[ next_state]) - q_value[state][action])\n",
        "      state =  next_state\n",
        "\n",
        "    policy = [np.argmax(actions) for actions in q_value]\n",
        "    win_rate = 0\n",
        "    steps = [0 for i in range(TEST_NUM)]\n",
        "    for i in range(TEST_NUM):\n",
        "      done = False\n",
        "      s = env.reset()\n",
        "      while not done:\n",
        "        s, r, done, _ = env.step(policy[s])\n",
        "        steps[i] += 1\n",
        "      if r>0:\n",
        "        win_rate += 1\n",
        "    win_rates.append(win_rate/100)\n",
        "  w_r.append(win_rates)"
      ]
    },
    {
      "cell_type": "code",
      "execution_count": 5,
      "metadata": {
        "colab": {
          "base_uri": "https://localhost:8080/",
          "height": 283
        },
        "id": "obAetmlpHiSl",
        "outputId": "00f1b464-2ae6-430d-9d16-08c1c4b17d92"
      },
      "outputs": [
        {
          "output_type": "execute_result",
          "data": {
            "text/plain": [
              "[<matplotlib.lines.Line2D at 0x7ffa9635a0d0>]"
            ]
          },
          "metadata": {},
          "execution_count": 5
        },
        {
          "output_type": "display_data",
          "data": {
            "text/plain": [
              "<Figure size 432x288 with 1 Axes>"
            ],
            "image/png": "[encoded data removed]"
          },
          "metadata": {
            "needs_background": "light"
          }
        }
      ],
      "source": [
        "plt.plot(np.mean(w_r, axis = 0))"
      ]
    }
  ],
  "metadata": {
    "colab": {
      "name": "Copy of Frozen Lake q-learning.ipynb",
      "provenance": [],
      "collapsed_sections": []
    },
    "kernelspec": {
      "display_name": "Python 3",
      "name": "python3"
    },
    "language_info": {
      "name": "python"
    }
  },
  "nbformat": 4,
  "nbformat_minor": 0
}