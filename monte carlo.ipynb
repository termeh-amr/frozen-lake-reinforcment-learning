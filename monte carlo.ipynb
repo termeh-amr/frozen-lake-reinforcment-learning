{
  "cells": [
    {
      "cell_type": "code",
      "execution_count": 1,
      "id": "27263524",
      "metadata": {
        "id": "27263524"
      },
      "outputs": [],
      "source": [
        "import gym\n",
        "from tqdm import tqdm\n",
        "import random\n",
        "import numpy as np\n",
        "import matplotlib.pyplot as plt"
      ]
    },
    {
      "cell_type": "code",
      "execution_count": 2,
      "id": "8b884035",
      "metadata": {
        "id": "8b884035"
      },
      "outputs": [],
      "source": [
        "env = gym.make('FrozenLake-v0',is_slippery=True)\n",
        "q_value = [[0]* env.action_space.n for i in range(env.observation_space.n)]\n",
        "returns = [[[0]]* env.action_space.n for i in range(env.observation_space.n)]\n",
        "ep_num = 5000\n",
        "epsilon = 0.3"
      ]
    },
    {
      "cell_type": "code",
      "execution_count": 4,
      "id": "cbcbafe6",
      "metadata": {
        "colab": {
          "base_uri": "https://localhost:8080/",
          "height": 455
        },
        "id": "cbcbafe6",
        "outputId": "d39a63c0-efba-4e68-9525-2a8c0335a32c"
      },
      "outputs": [
        {
          "output_type": "stream",
          "name": "stderr",
          "text": [
            " 80%|████████  | 4/5 [09:53<02:28, 148.49s/it]\n"
          ]
        },
        {
          "output_type": "error",
          "ename": "KeyboardInterrupt",
          "evalue": "ignored",
          "traceback": [
            "\u001b[0;31m---------------------------------------------------------------------------\u001b[0m",
            "\u001b[0;31mKeyboardInterrupt\u001b[0m                         Traceback (most recent call last)",
            "\u001b[0;32m<ipython-input-4-e77fc0803b47>\u001b[0m in \u001b[0;36m<module>\u001b[0;34m()\u001b[0m\n\u001b[1;32m     25\u001b[0m             \u001b[0;32mif\u001b[0m \u001b[0;32mnot\u001b[0m \u001b[0mSA_list\u001b[0m\u001b[0;34m[\u001b[0m\u001b[0mj\u001b[0m\u001b[0;34m]\u001b[0m \u001b[0;32min\u001b[0m \u001b[0;34m[\u001b[0m\u001b[0;34m[\u001b[0m\u001b[0mx\u001b[0m\u001b[0;34m[\u001b[0m\u001b[0;36m0\u001b[0m\u001b[0;34m]\u001b[0m\u001b[0;34m,\u001b[0m \u001b[0mx\u001b[0m\u001b[0;34m[\u001b[0m\u001b[0;36m1\u001b[0m\u001b[0;34m]\u001b[0m\u001b[0;34m]\u001b[0m \u001b[0;32mfor\u001b[0m \u001b[0mx\u001b[0m \u001b[0;32min\u001b[0m \u001b[0mSA_list\u001b[0m\u001b[0;34m[\u001b[0m\u001b[0;36m0\u001b[0m\u001b[0;34m:\u001b[0m\u001b[0mj\u001b[0m\u001b[0;34m]\u001b[0m\u001b[0;34m]\u001b[0m\u001b[0;34m:\u001b[0m\u001b[0;34m\u001b[0m\u001b[0;34m\u001b[0m\u001b[0m\n\u001b[1;32m     26\u001b[0m                 \u001b[0mreturns\u001b[0m\u001b[0;34m[\u001b[0m\u001b[0mSA_list\u001b[0m\u001b[0;34m[\u001b[0m\u001b[0mj\u001b[0m\u001b[0;34m]\u001b[0m\u001b[0;34m[\u001b[0m\u001b[0;36m0\u001b[0m\u001b[0;34m]\u001b[0m\u001b[0;34m]\u001b[0m\u001b[0;34m[\u001b[0m\u001b[0mSA_list\u001b[0m\u001b[0;34m[\u001b[0m\u001b[0mj\u001b[0m\u001b[0;34m]\u001b[0m\u001b[0;34m[\u001b[0m\u001b[0;36m1\u001b[0m\u001b[0;34m]\u001b[0m\u001b[0;34m]\u001b[0m\u001b[0;34m.\u001b[0m\u001b[0mappend\u001b[0m\u001b[0;34m(\u001b[0m\u001b[0mG\u001b[0m\u001b[0;34m)\u001b[0m\u001b[0;34m\u001b[0m\u001b[0;34m\u001b[0m\u001b[0m\n\u001b[0;32m---> 27\u001b[0;31m                 \u001b[0mq_value\u001b[0m\u001b[0;34m[\u001b[0m\u001b[0mSA_list\u001b[0m\u001b[0;34m[\u001b[0m\u001b[0mj\u001b[0m\u001b[0;34m]\u001b[0m\u001b[0;34m[\u001b[0m\u001b[0;36m0\u001b[0m\u001b[0;34m]\u001b[0m\u001b[0;34m]\u001b[0m\u001b[0;34m[\u001b[0m\u001b[0mSA_list\u001b[0m\u001b[0;34m[\u001b[0m\u001b[0mj\u001b[0m\u001b[0;34m]\u001b[0m\u001b[0;34m[\u001b[0m\u001b[0;36m1\u001b[0m\u001b[0;34m]\u001b[0m\u001b[0;34m]\u001b[0m \u001b[0;34m=\u001b[0m \u001b[0mnp\u001b[0m\u001b[0;34m.\u001b[0m\u001b[0mmean\u001b[0m\u001b[0;34m(\u001b[0m\u001b[0mreturns\u001b[0m\u001b[0;34m[\u001b[0m\u001b[0mSA_list\u001b[0m\u001b[0;34m[\u001b[0m\u001b[0mj\u001b[0m\u001b[0;34m]\u001b[0m\u001b[0;34m[\u001b[0m\u001b[0;36m0\u001b[0m\u001b[0;34m]\u001b[0m\u001b[0;34m]\u001b[0m\u001b[0;34m[\u001b[0m\u001b[0mSA_list\u001b[0m\u001b[0;34m[\u001b[0m\u001b[0mj\u001b[0m\u001b[0;34m]\u001b[0m\u001b[0;34m[\u001b[0m\u001b[0;36m1\u001b[0m\u001b[0;34m]\u001b[0m\u001b[0;34m]\u001b[0m\u001b[0;34m)\u001b[0m\u001b[0;34m\u001b[0m\u001b[0;34m\u001b[0m\u001b[0m\n\u001b[0m\u001b[1;32m     28\u001b[0m       \u001b[0;31m#  for m in range(env.observation_space.n):\u001b[0m\u001b[0;34m\u001b[0m\u001b[0;34m\u001b[0m\u001b[0;34m\u001b[0m\u001b[0m\n\u001b[1;32m     29\u001b[0m        \u001b[0;31m#     for n in range(4):\u001b[0m\u001b[0;34m\u001b[0m\u001b[0;34m\u001b[0m\u001b[0;34m\u001b[0m\u001b[0m\n",
            "\u001b[0;32m<__array_function__ internals>\u001b[0m in \u001b[0;36mmean\u001b[0;34m(*args, **kwargs)\u001b[0m\n",
            "\u001b[0;32m/usr/local/lib/python3.7/dist-packages/numpy/core/fromnumeric.py\u001b[0m in \u001b[0;36mmean\u001b[0;34m(a, axis, dtype, out, keepdims, where)\u001b[0m\n\u001b[1;32m   3439\u001b[0m \u001b[0;34m\u001b[0m\u001b[0m\n\u001b[1;32m   3440\u001b[0m     return _methods._mean(a, axis=axis, dtype=dtype,\n\u001b[0;32m-> 3441\u001b[0;31m                           out=out, **kwargs)\n\u001b[0m\u001b[1;32m   3442\u001b[0m \u001b[0;34m\u001b[0m\u001b[0m\n\u001b[1;32m   3443\u001b[0m \u001b[0;34m\u001b[0m\u001b[0m\n",
            "\u001b[0;32m/usr/local/lib/python3.7/dist-packages/numpy/core/_methods.py\u001b[0m in \u001b[0;36m_mean\u001b[0;34m(a, axis, dtype, out, keepdims, where)\u001b[0m\n\u001b[1;32m    161\u001b[0m \u001b[0;34m\u001b[0m\u001b[0m\n\u001b[1;32m    162\u001b[0m \u001b[0;32mdef\u001b[0m \u001b[0m_mean\u001b[0m\u001b[0;34m(\u001b[0m\u001b[0ma\u001b[0m\u001b[0;34m,\u001b[0m \u001b[0maxis\u001b[0m\u001b[0;34m=\u001b[0m\u001b[0;32mNone\u001b[0m\u001b[0;34m,\u001b[0m \u001b[0mdtype\u001b[0m\u001b[0;34m=\u001b[0m\u001b[0;32mNone\u001b[0m\u001b[0;34m,\u001b[0m \u001b[0mout\u001b[0m\u001b[0;34m=\u001b[0m\u001b[0;32mNone\u001b[0m\u001b[0;34m,\u001b[0m \u001b[0mkeepdims\u001b[0m\u001b[0;34m=\u001b[0m\u001b[0;32mFalse\u001b[0m\u001b[0;34m,\u001b[0m \u001b[0;34m*\u001b[0m\u001b[0;34m,\u001b[0m \u001b[0mwhere\u001b[0m\u001b[0;34m=\u001b[0m\u001b[0;32mTrue\u001b[0m\u001b[0;34m)\u001b[0m\u001b[0;34m:\u001b[0m\u001b[0;34m\u001b[0m\u001b[0;34m\u001b[0m\u001b[0m\n\u001b[0;32m--> 163\u001b[0;31m     \u001b[0marr\u001b[0m \u001b[0;34m=\u001b[0m \u001b[0masanyarray\u001b[0m\u001b[0;34m(\u001b[0m\u001b[0ma\u001b[0m\u001b[0;34m)\u001b[0m\u001b[0;34m\u001b[0m\u001b[0;34m\u001b[0m\u001b[0m\n\u001b[0m\u001b[1;32m    164\u001b[0m \u001b[0;34m\u001b[0m\u001b[0m\n\u001b[1;32m    165\u001b[0m     \u001b[0mis_float16_result\u001b[0m \u001b[0;34m=\u001b[0m \u001b[0;32mFalse\u001b[0m\u001b[0;34m\u001b[0m\u001b[0;34m\u001b[0m\u001b[0m\n",
            "\u001b[0;31mKeyboardInterrupt\u001b[0m: "
          ]
        }
      ],
      "source": [
        "w_r = []\n",
        "TEST_NUM = 5\n",
        "for k in tqdm(range(5)):\n",
        "    q_value = [[0]* env.action_space.n for i in range(env.observation_space.n)]\n",
        "    win_rates = []\n",
        "    for i in range(ep_num):\n",
        "        SA_list = []\n",
        "        rewards = []\n",
        "        env.reset()\n",
        "        state = env.s\n",
        "        done = False\n",
        "        G = 0\n",
        "        while not done:\n",
        "            if np.random.rand() < epsilon:\n",
        "                action = env.action_space.sample()\n",
        "            else:\n",
        "                action = np.argmax(q_value[state][:])\n",
        "            new_state, reward, done, _ = env.step(action)\n",
        "            SA_list.append([state, action])\n",
        "            rewards.append(reward)\n",
        "            state = new_state\n",
        "       # print(SA_list)\n",
        "        for j in reversed(range(0, len(SA_list))):\n",
        "            G = 0.9*G + rewards[j]\n",
        "            if not SA_list[j] in [[x[0], x[1]] for x in SA_list[0:j]]: \n",
        "                returns[SA_list[j][0]][SA_list[j][1]].append(G)\n",
        "                q_value[SA_list[j][0]][SA_list[j][1]] = np.mean(returns[SA_list[j][0]][SA_list[j][1]])\n",
        "      #  for m in range(env.observation_space.n):\n",
        "       #     for n in range(4):\n",
        "        #        q_value[m][n] += np.mean(returns[m][n])\n",
        "\n",
        "        policy = [np.argmax(actions) for actions in q_value]\n",
        "        win_rate = 0\n",
        "        steps = [0 for i in range(TEST_NUM)]\n",
        "        for i in range(TEST_NUM):\n",
        "            env.reset()\n",
        "            done = False\n",
        "            s = 0\n",
        "            while not done:\n",
        "                s, r, done, _ = env.step(policy[s])\n",
        "                steps[i] += 1\n",
        "            if r>0:\n",
        "                win_rate += 1\n",
        "        win_rates.append(win_rate/100)\n",
        "    w_r.append(win_rates)\n",
        "    "
      ]
    },
    {
      "cell_type": "code",
      "execution_count": null,
      "id": "0acd8cd3",
      "metadata": {
        "id": "0acd8cd3",
        "outputId": "c44759ed-e08f-42fa-c0b3-6249492bfdd2"
      },
      "outputs": [
        {
          "data": {
            "text/plain": [
              "[<matplotlib.lines.Line2D at 0x7f787b3d1fd0>]"
            ]
          },
          "execution_count": 18,
          "metadata": {},
          "output_type": "execute_result"
        },
        {
          "data": {
            "image/png": "[encoded data removed]",
            "text/plain": [
              "<Figure size 432x288 with 1 Axes>"
            ]
          },
          "metadata": {
            "needs_background": "light"
          },
          "output_type": "display_data"
        }
      ],
      "source": [
        "plt.plot(np.mean(w_r, axis = 0))"
      ]
    },
    {
      "cell_type": "code",
      "execution_count": null,
      "id": "b9ff0444",
      "metadata": {
        "id": "b9ff0444",
        "outputId": "c88ba0e1-0bf4-4d51-a830-8fe5de65e049"
      },
      "outputs": [
        {
          "data": {
            "text/plain": [
              "[[0.7971163843576304,\n",
              "  0.7966726750831964,\n",
              "  0.7966726750831964,\n",
              "  0.7966726750831964],\n",
              " [1.0542127810895303,\n",
              "  1.0542127810895303,\n",
              "  1.0542127810895303,\n",
              "  1.0542127810895303],\n",
              " [5.287291788239736, 5.287291788239736, 5.287291788239736, 5.287291788239736],\n",
              " [0.0, 0.0, 0.0, 0.0],\n",
              " [0.7889271237744592,\n",
              "  0.7889271237744592,\n",
              "  0.7889271237744592,\n",
              "  0.7889271237744592],\n",
              " [0.0, 0.0, 0.0, 0.0],\n",
              " [20.14393973961567, 20.14393973961567, 20.14393973961567, 20.14393973961567],\n",
              " [0.0, 0.0, 0.0, 0.0],\n",
              " [2.318293728353283, 2.318293728353283, 2.318293728353283, 2.318293728353283],\n",
              " [14.938613592633343,\n",
              "  14.938613592633343,\n",
              "  14.938613592633343,\n",
              "  14.938613592633343],\n",
              " [60.38743327168807, 60.38743327168807, 60.38743327168807, 60.38743327168807],\n",
              " [0.0, 0.0, 0.0, 0.0],\n",
              " [0.0, 0.0, 0.0, 0.0],\n",
              " [35.468173501453414,\n",
              "  35.468173501453414,\n",
              "  35.468173501453414,\n",
              "  35.468173501453414],\n",
              " [286.5761791784039, 286.5761791784039, 286.5761791784039, 286.5761791784039],\n",
              " [0.0, 0.0, 0.0, 0.0]]"
            ]
          },
          "execution_count": 141,
          "metadata": {},
          "output_type": "execute_result"
        }
      ],
      "source": [
        "q_value"
      ]
    },
    {
      "cell_type": "code",
      "execution_count": null,
      "id": "b0f0b7e4",
      "metadata": {
        "id": "b0f0b7e4"
      },
      "outputs": [],
      "source": [
        ""
      ]
    }
  ],
  "metadata": {
    "kernelspec": {
      "display_name": "Python 3",
      "language": "python",
      "name": "python3"
    },
    "language_info": {
      "codemirror_mode": {
        "name": "ipython",
        "version": 3
      },
      "file_extension": ".py",
      "mimetype": "text/x-python",
      "name": "python",
      "nbconvert_exporter": "python",
      "pygments_lexer": "ipython3",
      "version": "3.9.7"
    },
    "colab": {
      "name": "final project.ipynb",
      "provenance": []
    }
  },
  "nbformat": 4,
  "nbformat_minor": 5
}