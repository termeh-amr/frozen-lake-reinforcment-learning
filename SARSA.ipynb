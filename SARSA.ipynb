{
  "cells": [
    {
      "cell_type": "code",
      "execution_count": 1,
      "id": "1c17ce9d",
      "metadata": {
        "id": "1c17ce9d"
      },
      "outputs": [],
      "source": [
        "import gym\n",
        "from tqdm import tqdm\n",
        "import random\n",
        "import numpy as np\n",
        "import matplotlib.pyplot as plt"
      ]
    },
    {
      "cell_type": "code",
      "execution_count": 2,
      "id": "c6039423",
      "metadata": {
        "id": "c6039423"
      },
      "outputs": [],
      "source": [
        "env = gym.make('FrozenLake-v0',is_slippery=True)\n",
        "q_value = [[0]* env.action_space.n for i in range(env.observation_space.n)]\n",
        "ep_num = 5000\n",
        "epsilon = 0.3"
      ]
    },
    {
      "cell_type": "code",
      "execution_count": 3,
      "id": "9689ffab",
      "metadata": {
        "id": "9689ffab"
      },
      "outputs": [],
      "source": [
        "def epsilon_greedy(Q, epsilon, state):\n",
        "    if np.random.random() <= epsilon:\n",
        "        return env.action_space.sample()\n",
        "    else:\n",
        "        return np.argmax(Q[state][:])"
      ]
    },
    {
      "cell_type": "code",
      "execution_count": null,
      "id": "7fa7d767",
      "metadata": {
        "colab": {
          "base_uri": "https://localhost:8080/"
        },
        "id": "7fa7d767",
        "outputId": "62ed8af2-ffb2-4b40-df7e-e1ca1101eb2c"
      },
      "outputs": [
        {
          "output_type": "stream",
          "name": "stderr",
          "text": [
            "100%|██████████| 5000/5000 [00:01<00:00, 4965.67it/s]\n"
          ]
        }
      ],
      "source": [
        "for i in tqdm(range(ep_num)):\n",
        "    state = env.reset()\n",
        "    done = False\n",
        "    action = epsilon_greedy(q_value, epsilon, state)\n",
        "    while not done:\n",
        "        next_state, reward, done, _ = env.step(action)\n",
        "        next_action = epsilon_greedy(q_value, epsilon, state)\n",
        "        action_value =  q_value[next_state][next_action]\n",
        "        q_value[state][action] += 0.1 * (reward + 0.9 * action_value - q_value[state][action])\n",
        "        state = next_state\n",
        "        action = next_action"
      ]
    },
    {
      "cell_type": "code",
      "source": [
        "w_r = []\n",
        "EPISODE_NUM = 5000\n",
        "TEST_NUM = 50\n",
        "for k in tqdm(range(100)):\n",
        "  q_value = [[0]* env.action_space.n for i in range(env.observation_space.n)]\n",
        "  win_rates = []\n",
        "  for j in range(EPISODE_NUM):\n",
        "    state = env.reset()\n",
        "    done = False\n",
        "    action = epsilon_greedy(q_value, epsilon, state)\n",
        "    while not done:\n",
        "        next_state, reward, done, _ = env.step(action)\n",
        "        next_action = epsilon_greedy(q_value, epsilon, state)\n",
        "        action_value =  q_value[next_state][next_action]\n",
        "        q_value[state][action] += 0.1 * (reward + 0.9 * action_value - q_value[state][action])\n",
        "        state = next_state\n",
        "        action = next_action\n",
        "    policy = [np.argmax(actions) for actions in q_value]\n",
        "    win_rate = 0\n",
        "    steps = [0 for i in range(TEST_NUM)]\n",
        "    for i in range(TEST_NUM):\n",
        "      env.reset()\n",
        "      done = False\n",
        "      s = 0\n",
        "      while not done:\n",
        "        s, r, done, _ = env.step(policy[s])\n",
        "        steps[i] += 1\n",
        "      if r>0:\n",
        "        win_rate += 1\n",
        "    win_rates.append(win_rate/100)\n",
        "  w_r.append(win_rates)"
      ],
      "metadata": {
        "colab": {
          "base_uri": "https://localhost:8080/"
        },
        "id": "hAPz5fVSiHRF",
        "outputId": "42dcc206-a6b3-417e-a415-66b201286b9b"
      },
      "id": "hAPz5fVSiHRF",
      "execution_count": null,
      "outputs": [
        {
          "output_type": "stream",
          "name": "stderr",
          "text": [
            " 48%|████▊     | 48/100 [38:58<44:34, 51.44s/it]"
          ]
        }
      ]
    },
    {
      "cell_type": "code",
      "source": [
        "plt.plot(np.mean(w_r, axis = 0))"
      ],
      "metadata": {
        "colab": {
          "base_uri": "https://localhost:8080/",
          "height": 283
        },
        "id": "11LEcKJBiJCK",
        "outputId": "44b02e28-32bc-4256-8cff-1451d44f5fbf"
      },
      "id": "11LEcKJBiJCK",
      "execution_count": 11,
      "outputs": [
        {
          "output_type": "execute_result",
          "data": {
            "text/plain": [
              "[<matplotlib.lines.Line2D at 0x7f5fb9df74d0>]"
            ]
          },
          "metadata": {},
          "execution_count": 11
        },
        {
          "output_type": "display_data",
          "data": {
            "text/plain": [
              "<Figure size 432x288 with 1 Axes>"
            ],
            "image/png": "[encoded data removed]"
          },
          "metadata": {
            "needs_background": "light"
          }
        }
      ]
    }
  ],
  "metadata": {
    "kernelspec": {
      "display_name": "Python 3",
      "language": "python",
      "name": "python3"
    },
    "language_info": {
      "codemirror_mode": {
        "name": "ipython",
        "version": 3
      },
      "file_extension": ".py",
      "mimetype": "text/x-python",
      "name": "python",
      "nbconvert_exporter": "python",
      "pygments_lexer": "ipython3",
      "version": "3.9.7"
    },
    "colab": {
      "name": "Untitled.ipynb",
      "provenance": []
    }
  },
  "nbformat": 4,
  "nbformat_minor": 5
}